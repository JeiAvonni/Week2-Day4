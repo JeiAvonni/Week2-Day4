{
 "cells": [
  {
   "cell_type": "markdown",
   "metadata": {},
   "source": [
    "# User-Defined Functions & Scoping"
   ]
  },
  {
   "cell_type": "markdown",
   "metadata": {},
   "source": [
    "## Tasks Today:\n",
    "\n",
    "\n",
    "1) Functions <br>\n",
    " &nbsp;&nbsp;&nbsp;&nbsp; a) User-Defined vs. Built-In Functions <br>\n",
    " &nbsp;&nbsp;&nbsp;&nbsp; b) Accepting Parameters <br>\n",
    " &nbsp;&nbsp;&nbsp;&nbsp; c) Default Parameters <br>\n",
    " &nbsp;&nbsp;&nbsp;&nbsp; d) Making an Argument Optional <br>\n",
    " &nbsp;&nbsp;&nbsp;&nbsp; e) Keyword Arguments <br>\n",
    " &nbsp;&nbsp;&nbsp;&nbsp; f) Returning Values <br>\n",
    " &nbsp;&nbsp;&nbsp;&nbsp; g) *args <br>\n",
    " &nbsp;&nbsp;&nbsp;&nbsp; h) Docstring <br>\n",
    " &nbsp;&nbsp;&nbsp;&nbsp; i) Using a User Function in a Loop <br>\n",
    "2) Scope\n",
    "3) Creating more User-Defined functions \n",
    "4) Modules <br>\n",
    " &nbsp;&nbsp;&nbsp;&nbsp; a) Importing Entire Modules <br>\n",
    " &nbsp;&nbsp;&nbsp;&nbsp; b) Importing Methods Only <br>\n",
    " &nbsp;&nbsp;&nbsp;&nbsp; c) Using the 'as' Keyword <br>\n",
    " &nbsp;&nbsp;&nbsp;&nbsp; d) Creating a Module <br>"
   ]
  },
  {
   "cell_type": "markdown",
   "metadata": {},
   "source": [
    "\n",
    "## Functions"
   ]
  },
  {
   "cell_type": "markdown",
   "metadata": {},
   "source": [
    "##### User-Defined vs. Built-In Functions"
   ]
  },
  {
   "cell_type": "code",
   "execution_count": 8,
   "metadata": {},
   "outputs": [
    {
     "name": "stdout",
     "output_type": "stream",
     "text": [
      "Hello\n",
      "HELLO AGAIN\n",
      "variable storing the output of say_hello(): Hello\n"
     ]
    }
   ],
   "source": [
    "#  built-in function\n",
    "#  print(\"hello\")\n",
    "#  max()\n",
    "#  min()\n",
    "#  sum()\n",
    "#  len()\n",
    "\n",
    "#  user defined function\n",
    "#  when writing a function you need the def keyword function_name():\n",
    "def say_hello():\n",
    "    return \"Hello\"\n",
    "#  return gives the function a tangible output that can be asigned to other variables\n",
    "#  calling a function is just he function name followed by parentheses\n",
    "#  function_name()\n",
    "#  always make sure to add parenthesis when making a function\n",
    "say_hello()\n",
    "\n",
    "#  printing a function call\n",
    "print(say_hello())\n",
    "\n",
    "#  user defined function\n",
    "def say_hello_again():\n",
    "    return \"hello again\"\n",
    "# using a built in function on return  of a user defined function\n",
    "print(say_hello_again().upper())\n",
    "\n",
    "#  difference between print and return\n",
    "def third_hello():\n",
    "#  print does not give our function a returned value\n",
    "    print(\"hello a third time\")\n",
    "#  can not call built-in functions on a function that prints\n",
    "#  third_hello().upper()\n",
    "\n",
    "# storing a return of a function to a variable\n",
    "hello = say_hello()\n",
    "print(\"variable storing the output of say_hello():\",  hello)\n",
    "#  print is for debugging"
   ]
  },
  {
   "cell_type": "markdown",
   "metadata": {},
   "source": [
    "##### Accepting Parameters"
   ]
  },
  {
   "cell_type": "code",
   "execution_count": 18,
   "metadata": {
    "scrolled": true
   },
   "outputs": [
    {
     "name": "stdout",
     "output_type": "stream",
     "text": [
      "The weather is kinda gross here today\n",
      "4\n",
      "[1, 2, 3, 4, 'hello', 'goodbye']\n",
      "The Ferrari is very copasetic while it revs\n",
      "hellohave a good day\n"
     ]
    }
   ],
   "source": [
    "# elements passed into a function\n",
    "# variables to hold the place of items our function will act upon\n",
    "# order matters\n",
    "# a parameter can be of any object type (data type)\n",
    "# num = 6\n",
    "# if num % 2 = 0:\n",
    "# print(\"even\")\n",
    "# else:\n",
    "# print(\"odd\")\n",
    "\n",
    "            # paremeter\n",
    "def return_something(anything):\n",
    "        # acting upon that paremeter\n",
    "    return anything\n",
    "                        # argument is the object we pass into the function\n",
    "print(return_something(\"The weather is kinda gross here today\"))\n",
    "                        # argument\n",
    "print(return_something(4))\n",
    "                        # argument\n",
    "print(return_something([1, 2, 3, 4, \"hello\", \"goodbye\"]))\n",
    "\n",
    "def make_sentence(noun, adjective, verb):\n",
    "    return f\"The {noun} is very {adjective} while it {verb}\"\n",
    "print(make_sentence(\"Ferrari\", \"copasetic\",\"revs\"))\n",
    "\n",
    "# order of arguments matter\n",
    "# def add_and_length(num, string):\n",
    "#     return num+1, len(string)\n",
    "# print(add_and_length(\"hello\", 5))\n",
    "\n",
    "# my_string = \"hello\"\n",
    "# my_string2 = \"have a good day\"\n",
    "\n",
    "# my_string3 = my_string + my_string2\n",
    "# print(my_string3)"
   ]
  },
  {
   "cell_type": "markdown",
   "metadata": {},
   "source": [
    "##### Default Parameters"
   ]
  },
  {
   "cell_type": "code",
   "execution_count": 22,
   "metadata": {},
   "outputs": [
    {
     "name": "stdout",
     "output_type": "stream",
     "text": [
      "The name is bond....James last_name)\n",
      "The name is Jenkins....Leroy last_name)\n"
     ]
    }
   ],
   "source": [
    "# default parameters must always come after non-default parameters at all times forever and ever...or else\n",
    "                            # default paremeter\n",
    "def agent_name(first_name, last_name=\"bond\"):\n",
    "    return f\"The name is {last_name}....{first_name} last_name)\"\n",
    "# the default parameter is used when that parameter is not correctly positioned by the argument\n",
    "print(agent_name(\"James\"))\n",
    "print(agent_name(\"Leroy\", \"Jenkins\"))\n"
   ]
  },
  {
   "cell_type": "code",
   "execution_count": 31,
   "metadata": {},
   "outputs": [
    {
     "name": "stdout",
     "output_type": "stream",
     "text": [
      "Alex's birthday is November 24....happy birthday on that month and day\n"
     ]
    }
   ],
   "source": [
    "# default parameters must always come after non-default parameters at all times forever and ever...or else\n",
    "def birthday_month(day, month = \"January\"):\n",
    "    return f\"Alex's birthday is {month} {day}....happy birthday on that month and day\"\n",
    "print(birthday_month(24,\"November\"))\n"
   ]
  },
  {
   "cell_type": "markdown",
   "metadata": {},
   "source": [
    "##### Making an Argument Optional"
   ]
  },
  {
   "cell_type": "code",
   "execution_count": 33,
   "metadata": {},
   "outputs": [
    {
     "name": "stdout",
     "output_type": "stream",
     "text": [
      "Hello Ryan Rhoades\n",
      "Hello Ryan Allen Rhoades\n"
     ]
    }
   ],
   "source": [
    "def print_full_name(first,last,middle=\"\"):\n",
    "    if middle == \"\":\n",
    "        return f\"Hello {first} {last}\"\n",
    "    return f\"Hello {first} {middle} {last}\"\n",
    "print(print_full_name(\"Ryan\", \"Rhoades\"))\n",
    "print(print_full_name(\"Ryan\", \"Rhoades\", \"Allen\"))\n",
    "\n",
    "# position always matters!!!"
   ]
  },
  {
   "cell_type": "markdown",
   "metadata": {},
   "source": [
    "##### Keyword Arguments"
   ]
  },
  {
   "cell_type": "code",
   "execution_count": 40,
   "metadata": {},
   "outputs": [
    {
     "name": "stdout",
     "output_type": "stream",
     "text": [
      "Batman's, power is money and their secret identity is Bruce Wayne\n"
     ]
    }
   ],
   "source": [
    "#keyword arguments must follow positional arugments\n",
    "                # paremeter1, parameter2, default parameter\n",
    "def print_hero(name, secret_identity, power=\"flying\"):\n",
    "    return f\"{name}'s, power is {power} and their secret identity is {secret_identity}\"\n",
    "                                                    # keyword argument\n",
    "# print(print_hero(\"Batman\", \"Bruce Wayne\", power=\"money\"))\n",
    "print(print_hero(\"Batman\", power=\"money\", secret_identity=\"Bruce Wayne\"))\n",
    "\n"
   ]
  },
  {
   "cell_type": "markdown",
   "metadata": {},
   "source": [
    "def print_color(color1, color2, color3):\n",
    "    return\n",
    "\n"
   ]
  },
  {
   "cell_type": "markdown",
   "metadata": {},
   "source": [
    "# Creating a start, stop, step function"
   ]
  },
  {
   "cell_type": "code",
   "execution_count": 43,
   "metadata": {
    "scrolled": true
   },
   "outputs": [
    {
     "name": "stdout",
     "output_type": "stream",
     "text": [
      "5\n",
      "8\n",
      "Hey great job your're beautiful\n"
     ]
    }
   ],
   "source": [
    "# range (stop,start=0,step=1)\n",
    "def my_range(stop, start=0, step=1):\n",
    "    for i in range(start,stop,step):\n",
    "        print(i)\n",
    "    return \"Hey great job your're beautiful\"\n",
    "print(my_range(11, 5, 3))"
   ]
  },
  {
   "cell_type": "markdown",
   "metadata": {},
   "source": [
    "##### Returning Values"
   ]
  },
  {
   "cell_type": "code",
   "execution_count": null,
   "metadata": {},
   "outputs": [],
   "source": [
    "\n"
   ]
  },
  {
   "cell_type": "markdown",
   "metadata": {},
   "source": [
    "##### *args / **kwargs (keyword arguments)"
   ]
  },
  {
   "cell_type": "code",
   "execution_count": null,
   "metadata": {},
   "outputs": [],
   "source": [
    "#*args, **kwargs\n",
    "# *args stands for arguments and will allow the function to take in any number of arguments\n",
    "# **kwargs stands for key word arguments and will allow the function to take in any number of keyword arguments\n",
    "# if other parameters are present, args and kwarfs must go last\n",
    "\n",
    "\n"
   ]
  },
  {
   "cell_type": "markdown",
   "metadata": {},
   "source": [
    "##### Docstring"
   ]
  },
  {
   "cell_type": "code",
   "execution_count": null,
   "metadata": {},
   "outputs": [],
   "source": [
    "# docstrings are a really nice way to leave notes about funciontality in your code\n",
    "# provide instructions\n",
    "\n",
    "    "
   ]
  },
  {
   "cell_type": "markdown",
   "metadata": {},
   "source": [
    "##### Using a User Function in a Loop"
   ]
  },
  {
   "cell_type": "code",
   "execution_count": null,
   "metadata": {},
   "outputs": [],
   "source": [
    "def print_input(answer):\n",
    "    print(f\"This is the output from print_input. Here is what you have goin on: {answer}\")\n",
    "def print_input(answer):\n",
    "    print(f\"This is the output from print_input. Here is what you have goin on: {answer}\")"
   ]
  },
  {
   "cell_type": "code",
   "execution_count": null,
   "metadata": {
    "scrolled": true
   },
   "outputs": [],
   "source": []
  },
  {
   "cell_type": "code",
   "execution_count": null,
   "metadata": {},
   "outputs": [],
   "source": []
  },
  {
   "cell_type": "markdown",
   "metadata": {},
   "source": [
    "## Function Exercises <br>\n",
    "### Exercise 1\n",
    "<p>Write a function that loops through a list of first_names and a list of last_names, combines the two and return a list of full_names</p>"
   ]
  },
  {
   "cell_type": "code",
   "execution_count": null,
   "metadata": {},
   "outputs": [],
   "source": []
  },
  {
   "cell_type": "code",
   "execution_count": 47,
   "metadata": {},
   "outputs": [
    {
     "name": "stdout",
     "output_type": "stream",
     "text": [
      "['John Smith', 'Evan Smith', 'Jordan Williams', 'Max Bell']\n"
     ]
    }
   ],
   "source": [
    "first_name = ['John', 'Evan', 'Jordan', 'Max']\n",
    "last_name = ['Smith', 'Smith', 'Williams', 'Bell']\n",
    "\n",
    "# Output: ['John Smith', 'Evan Smith', 'Jordan Williams', 'Max Bell']\n",
    "def long_names(first_name, last_name):\n",
    "    \n",
    "    full_names = []\n",
    "    for i in range(len(first_name)):\n",
    "        full_name = f\"{first_name[i]} {last_name[i]}\"\n",
    "        full_names.append(full_name)\n",
    "    return full_names\n",
    "\n",
    "allnames = long_names(first_name, last_name)\n",
    "print(allnames)\n"
   ]
  },
  {
   "cell_type": "markdown",
   "metadata": {},
   "source": [
    "### Exercise 2\n",
    "Create a function that alters all values in the given list by subtracting 5 and then doubling them."
   ]
  },
  {
   "cell_type": "code",
   "execution_count": 49,
   "metadata": {},
   "outputs": [],
   "source": [
    "input_list = [5,10,15,20,3]\n",
    "# output = [0,10,20,30,-4]\n",
    "\n",
    "def calc_list(arr):\n",
    "    # calc_list = []\n",
    "    # for num in arr:  \n",
    "    #     final_calc = (num-5)*2\n",
    "    #     calc_list.append(final_calc)\n",
    "    # return calc_list\n",
    "\n",
    "    return[((num-5)*2) for num in arr]\n"
   ]
  },
  {
   "cell_type": "markdown",
   "metadata": {},
   "source": [
    "### Exercise 3\n",
    "Create a function that takes in a list of strings and filters out the strings that DO NOT contain vowels. "
   ]
  },
  {
   "cell_type": "code",
   "execution_count": 50,
   "metadata": {},
   "outputs": [
    {
     "name": "stdout",
     "output_type": "stream",
     "text": [
      "['Sheldon', 'Leonard', 'Amy']\n"
     ]
    }
   ],
   "source": [
    "string_list = ['Sheldon','Pnny','Leonard','Hwrd','Rj','Amy','Strt']\n",
    "# output = ['Sheldon','Leonard','Amy']\n",
    "def vowels_only(lis):\n",
    "    vowels = [\"a\", \"e\", \"i\", \"o\", \"u\"]\n",
    "    cool_names = []\n",
    "    \n",
    "    for name in lis:\n",
    "        for letter in name:\n",
    "            if letter.lower() in vowels:\n",
    "                cool_names.append(name)\n",
    "                break\n",
    "                \n",
    "    return cool_names\n",
    "\n",
    "print(vowels_only(string_list))\n"
   ]
  },
  {
   "cell_type": "code",
   "execution_count": null,
   "metadata": {},
   "outputs": [],
   "source": [
    "def vowels_only(lis):\n",
    "    vowels = {'a', 'e', 'i', 'o', 'u'}\n",
    "    return list(set([name for name in lis if any for letter in name if"
   ]
  },
  {
   "cell_type": "code",
   "execution_count": null,
   "metadata": {},
   "outputs": [],
   "source": []
  },
  {
   "cell_type": "markdown",
   "metadata": {},
   "source": [
    "### Exercise 4\n",
    "Create a function that accepts a list as a parameter and returns a dictionary containing the list items as it's keys, and the number of times they appear in the list as the values"
   ]
  },
  {
   "cell_type": "code",
   "execution_count": 1,
   "metadata": {
    "scrolled": true
   },
   "outputs": [],
   "source": [
    "example_list = [\"Harry\", 'Hermione','Harry','Ron','Dobby','Draco','Luna','Harry','Hermione','Ron','Ron','Ron']\n",
    "\n",
    "# output = {\n",
    "#     \"Harry\":3,\n",
    "#     \"Hermione\":2,\n",
    "#     \"Ron\":4,\n",
    "#     \"Dobby\":1,\n",
    "#     \"Draco\":1,\n",
    "#     \"Luna\": 1\n",
    "# }\n"
   ]
  },
  {
   "cell_type": "code",
   "execution_count": 4,
   "metadata": {},
   "outputs": [
    {
     "ename": "NameError",
     "evalue": "name 'string_list' is not defined",
     "output_type": "error",
     "traceback": [
      "\u001b[1;31m---------------------------------------------------------------------------\u001b[0m",
      "\u001b[1;31mNameError\u001b[0m                                 Traceback (most recent call last)",
      "Cell \u001b[1;32mIn[4], line 7\u001b[0m\n\u001b[0;32m      4\u001b[0m         new_dict[name]\u001b[38;5;241m=\u001b[39m [name]\n\u001b[0;32m      5\u001b[0m     \u001b[38;5;28;01mreturn\u001b[39;00m new_dict\n\u001b[1;32m----> 7\u001b[0m \u001b[38;5;28mprint\u001b[39m(dict_function(\u001b[43mstring_list\u001b[49m))\n",
      "\u001b[1;31mNameError\u001b[0m: name 'string_list' is not defined"
     ]
    }
   ],
   "source": [
    "def dict_function(arr):\n",
    "    new_dict = {}\n",
    "    for name in range(len(arr)):\n",
    "        new_dict[name]= [name]\n",
    "    return new_dict\n",
    "\n",
    "print(dict_function(string_list))"
   ]
  },
  {
   "cell_type": "markdown",
   "metadata": {},
   "source": [
    "\n",
    "\n",
    "## Scope <br>\n",
    "<p>Scope refers to the ability to access variables, different types of scope include:<br>a) Global<br>b) Function (local)<br>c) Class (local)</p>"
   ]
  },
  {
   "cell_type": "code",
   "execution_count": 55,
   "metadata": {},
   "outputs": [
    {
     "ename": "NameError",
     "evalue": "name 'num2' is not defined",
     "output_type": "error",
     "traceback": [
      "\u001b[1;31m---------------------------------------------------------------------------\u001b[0m",
      "\u001b[1;31mNameError\u001b[0m                                 Traceback (most recent call last)",
      "Cell \u001b[1;32mIn[55], line 11\u001b[0m\n\u001b[0;32m      8\u001b[0m     \u001b[38;5;28mprint\u001b[39m(number)\n\u001b[0;32m      9\u001b[0m     \u001b[38;5;28;01mreturn\u001b[39;00m num, num3\n\u001b[1;32m---> 11\u001b[0m \u001b[38;5;28mprint\u001b[39m(\u001b[43mreturn_num\u001b[49m\u001b[43m(\u001b[49m\u001b[43mnumber\u001b[49m\u001b[43m)\u001b[49m)\n\u001b[0;32m     13\u001b[0m \u001b[38;5;28mprint\u001b[39m(\u001b[38;5;124m\"\u001b[39m\u001b[38;5;124mglobal variable\u001b[39m\u001b[38;5;124m\"\u001b[39m,number)\n\u001b[0;32m     15\u001b[0m \u001b[38;5;66;03m# print(num) name \"num\" is not defined. We can't access variables defined in a function\u001b[39;00m\n",
      "Cell \u001b[1;32mIn[55], line 6\u001b[0m, in \u001b[0;36mreturn_num\u001b[1;34m(number)\u001b[0m\n\u001b[0;32m      5\u001b[0m \u001b[38;5;28;01mdef\u001b[39;00m \u001b[38;5;21mreturn_num\u001b[39m(number):\n\u001b[1;32m----> 6\u001b[0m     num \u001b[38;5;241m=\u001b[39m \u001b[43mnum2\u001b[49m \u001b[38;5;66;03m# locally scoped function variable\u001b[39;00m\n\u001b[0;32m      7\u001b[0m     num3 \u001b[38;5;241m=\u001b[39m \u001b[38;5;241m5\u001b[39m\n\u001b[0;32m      8\u001b[0m     \u001b[38;5;28mprint\u001b[39m(number)\n",
      "\u001b[1;31mNameError\u001b[0m: name 'num2' is not defined"
     ]
    }
   ],
   "source": [
    "# placement of variable declaration matters\n",
    "\n",
    "number = 3 # <----global variable\n",
    "\n",
    "def return_num(number):\n",
    "    num = num2 # locally scoped function variable\n",
    "    num3 = 5\n",
    "    print(number)\n",
    "    return num, num3\n",
    "\n",
    "print(return_num(number))\n",
    "\n",
    "print(\"global variable\",number)\n",
    "\n",
    "# print(num) name \"num\" is not defined. We can't access variables defined in a function"
   ]
  },
  {
   "cell_type": "markdown",
   "metadata": {},
   "source": [
    "## Modules"
   ]
  },
  {
   "cell_type": "markdown",
   "metadata": {},
   "source": [
    "##### Importing Entire Modules\n"
   ]
  },
  {
   "cell_type": "code",
   "execution_count": 58,
   "metadata": {},
   "outputs": [
    {
     "name": "stdout",
     "output_type": "stream",
     "text": [
      "2\n",
      "3\n",
      "3.141592653589793\n",
      "4\n",
      "3.141592653589793\n",
      "3\n"
     ]
    }
   ],
   "source": [
    "## Modules\n",
    "import math\n",
    "num = 5\n",
    "num2 = 2\n",
    "num3 = num // num2\n",
    "print(num3)\n",
    "\n",
    "print(math.ceil(num/num2))\n",
    "\n",
    "print(math.pi)\n",
    "\n",
    "print(math.ceil(math.pi))\n",
    "\n",
    "my_pi = math.pi\n",
    "print(my_pi)\n",
    "\n",
    "print(math.floor(my_pi))"
   ]
  },
  {
   "cell_type": "markdown",
   "metadata": {},
   "source": [
    "##### Importing Methods Only"
   ]
  },
  {
   "cell_type": "code",
   "execution_count": 60,
   "metadata": {},
   "outputs": [
    {
     "name": "stdout",
     "output_type": "stream",
     "text": [
      "3.141592653589793\n",
      "4\n",
      "66\n"
     ]
    }
   ],
   "source": [
    "# from <module name> import <method>\n",
    "#from math import floor\n",
    "from math import floor, pi, ceil\n",
    "\n",
    "print(pi)\n",
    "\n",
    "print(floor(4.8))\n",
    "\n",
    "print(ceil(65.2))"
   ]
  },
  {
   "cell_type": "markdown",
   "metadata": {},
   "source": [
    "##### Using the 'as' Keyword"
   ]
  },
  {
   "cell_type": "code",
   "execution_count": 64,
   "metadata": {},
   "outputs": [
    {
     "name": "stdout",
     "output_type": "stream",
     "text": [
      "3.141592653589793\n",
      "3\n",
      "4\n"
     ]
    }
   ],
   "source": [
    "# from xxx import yyy as z\n",
    "from math import pi as p, floor as f, ceil as seal_ar_ar\n",
    "\n",
    "print(p)\n",
    "\n",
    "print(f(p))\n",
    "\n",
    "print(seal_ar_ar(p))"
   ]
  },
  {
   "cell_type": "markdown",
   "metadata": {},
   "source": [
    "##### Creating a Module"
   ]
  },
  {
   "cell_type": "code",
   "execution_count": 65,
   "metadata": {},
   "outputs": [
    {
     "name": "stdout",
     "output_type": "stream",
     "text": [
      "Hello Mr/Ms Ryan...we've been waiting for you!\n"
     ]
    }
   ],
   "source": [
    "from module import printName as pn\n",
    "\n",
    "pn(\"Ryan\")"
   ]
  },
  {
   "cell_type": "markdown",
   "metadata": {},
   "source": [
    "# Homework Exercises"
   ]
  },
  {
   "cell_type": "markdown",
   "metadata": {},
   "source": [
    "### 1) Create a Module in VS Code and Import It into jupyter notebook <br>\n",
    "<p><b>Module should have the following capabilities:</b><br><br>\n",
    "1a) Has a function to calculate the square footage of a house <br>\n",
    "    <b>Reminder of Formula: Length X Width == Area</b><br>\n",
    "        <hr>\n",
    "1b) Has a function to calculate the circumference of a circle 2 Pi r <br><br>\n",
    "<b>Program in Jupyter Notebook should take in user input and use imported functions to calculate a circle's circumference or a houses square footage</b>\n",
    "</p>"
   ]
  },
  {
   "cell_type": "code",
   "execution_count": 3,
   "metadata": {},
   "outputs": [
    {
     "name": "stdout",
     "output_type": "stream",
     "text": [
      "9\n",
      "12.56\n"
     ]
    }
   ],
   "source": [
    "import module\n",
    "print (module.area(3,3))\n",
    "print (module.circ(2))"
   ]
  },
  {
   "cell_type": "markdown",
   "metadata": {},
   "source": [
    "### 2) Build a Shopping Cart Function <br>\n",
    "<p><b>You can use either lists or dictionaries. The program should have the following capabilities:</b><br><br>\n",
    "1) Takes in input <br>\n",
    "2) Stores user input into a dictionary or list <br>\n",
    "3) The User can add or delete items <br>\n",
    "4) The User can see current shopping list <br>\n",
    "5) The program Loops until user 'quits' <br>\n",
    "6) Upon quiting the program, print out all items in the user's list <br>\n",
    "</p>"
   ]
  },
  {
   "cell_type": "code",
   "execution_count": null,
   "metadata": {},
   "outputs": [],
   "source": [
    "def cart():\n",
    "    shopping_kart = []\n",
    "\n",
    "\n",
    "\n",
    "while True:\n",
    "    food = input(\"Enter food to buy ('q' to quit): \")\n",
    "    if food == \"q\" :  \n",
    "        break\n",
    "    if food == \"add\":\n",
    "        \n",
    "    else: \n",
    "        shopping_kart.append(food)\n",
    "    want_to_delete_item = input(\" Would you like to delete item from your kart?\")\n",
    "    if want_to_delete_item == \"yes\":\n",
    "        item_to_delete = input(\"What is the item you want to delete?\")\n",
    "        shopping_kart.remove(item_to_delete)\n",
    "    \n",
    "    \n",
    "    \n",
    "print(\"-----your cart-----\")\n",
    "\n",
    "for food in shopping_kart:\n",
    "    print (food, end=\" \")\n"
   ]
  }
 ],
 "metadata": {
  "kernelspec": {
   "display_name": "Python 3 (ipykernel)",
   "language": "python",
   "name": "python3"
  },
  "language_info": {
   "codemirror_mode": {
    "name": "ipython",
    "version": 3
   },
   "file_extension": ".py",
   "mimetype": "text/x-python",
   "name": "python",
   "nbconvert_exporter": "python",
   "pygments_lexer": "ipython3",
   "version": "3.12.1"
  }
 },
 "nbformat": 4,
 "nbformat_minor": 4
}
